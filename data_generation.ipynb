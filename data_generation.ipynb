{
 "cells": [
  {
   "cell_type": "code",
   "execution_count": 1,
   "id": "de8cfc4a",
   "metadata": {},
   "outputs": [
    {
     "ename": "Exception",
     "evalue": "\n###############\nThis script can only be run by \"blenderproc run\", instead of calling:\n\tpython /home/titans/anaconda3/envs/nice-slam/lib/python3.7/site-packages/ipykernel_launcher.py\ncall:\n\tblenderproc run /home/titans/anaconda3/envs/nice-slam/lib/python3.7/site-packages/ipykernel_launcher.py\n###############",
     "output_type": "error",
     "traceback": [
      "\u001b[0;31m---------------------------------------------------------------------------\u001b[0m",
      "\u001b[0;31mException\u001b[0m                                 Traceback (most recent call last)",
      "\u001b[0;32m/tmp/ipykernel_1832/4042661129.py\u001b[0m in \u001b[0;36m<module>\u001b[0;34m\u001b[0m\n\u001b[0;32m----> 1\u001b[0;31m \u001b[0;32mimport\u001b[0m \u001b[0mblenderproc\u001b[0m \u001b[0;32mas\u001b[0m \u001b[0mbproc\u001b[0m\u001b[0;34m\u001b[0m\u001b[0;34m\u001b[0m\u001b[0m\n\u001b[0m\u001b[1;32m      2\u001b[0m \u001b[0mbproc\u001b[0m\u001b[0;34m.\u001b[0m\u001b[0minit\u001b[0m\u001b[0;34m(\u001b[0m\u001b[0;34m)\u001b[0m\u001b[0;34m\u001b[0m\u001b[0;34m\u001b[0m\u001b[0m\n",
      "\u001b[0;32m~/anaconda3/envs/nice-slam/lib/python3.7/site-packages/blenderproc/__init__.py\u001b[0m in \u001b[0;36m<module>\u001b[0;34m\u001b[0m\n\u001b[1;32m     49\u001b[0m             \u001b[0;32mand\u001b[0m \u001b[0;32mnot\u001b[0m \u001b[0mis_correct_startup_command\u001b[0m\u001b[0;34m:\u001b[0m\u001b[0;34m\u001b[0m\u001b[0;34m\u001b[0m\u001b[0m\n\u001b[1;32m     50\u001b[0m         raise Exception(\"\\n###############\\nThis script can only be run by \\\"blenderproc run\\\", instead of calling:\"\n\u001b[0;32m---> 51\u001b[0;31m                         \"\\n\\tpython {}\\ncall:\\n\\tblenderproc run {}\\n###############\".format(sys.argv[0], sys.argv[0]))\n\u001b[0m",
      "\u001b[0;31mException\u001b[0m: \n###############\nThis script can only be run by \"blenderproc run\", instead of calling:\n\tpython /home/titans/anaconda3/envs/nice-slam/lib/python3.7/site-packages/ipykernel_launcher.py\ncall:\n\tblenderproc run /home/titans/anaconda3/envs/nice-slam/lib/python3.7/site-packages/ipykernel_launcher.py\n###############"
     ]
    }
   ],
   "source": [
    "import blenderproc as bproc\n",
    "bproc.init()"
   ]
  }
 ],
 "metadata": {
  "kernelspec": {
   "display_name": "Python 3 (ipykernel)",
   "language": "python",
   "name": "python3"
  },
  "language_info": {
   "codemirror_mode": {
    "name": "ipython",
    "version": 3
   },
   "file_extension": ".py",
   "mimetype": "text/x-python",
   "name": "python",
   "nbconvert_exporter": "python",
   "pygments_lexer": "ipython3",
   "version": "3.7.11"
  }
 },
 "nbformat": 4,
 "nbformat_minor": 5
}
